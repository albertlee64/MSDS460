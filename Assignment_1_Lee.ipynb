{
 "cells": [
  {
   "cell_type": "markdown",
   "id": "334b92cb",
   "metadata": {},
   "source": [
    "# Install PuLP and add library packages"
   ]
  },
  {
   "cell_type": "code",
   "execution_count": 1,
   "id": "db8e0212",
   "metadata": {},
   "outputs": [
    {
     "name": "stdout",
     "output_type": "stream",
     "text": [
      "Requirement already satisfied: pulp in /Users/albertlee/opt/anaconda3/lib/python3.9/site-packages (2.9.0)\n",
      "Note: you may need to restart the kernel to use updated packages.\n"
     ]
    }
   ],
   "source": [
    "pip install pulp"
   ]
  },
  {
   "cell_type": "code",
   "execution_count": 2,
   "id": "bdbdf1df",
   "metadata": {},
   "outputs": [],
   "source": [
    "import pandas as pd\n",
    "from pulp import *"
   ]
  },
  {
   "cell_type": "markdown",
   "id": "1e48e90c",
   "metadata": {},
   "source": [
    "# Add Dataframe from Excel File with Diet Foods"
   ]
  },
  {
   "cell_type": "code",
   "execution_count": 3,
   "id": "f4a0161e",
   "metadata": {},
   "outputs": [],
   "source": [
    "df = pd.read_excel(\"Assignment_1_Diet.xlsx\")"
   ]
  },
  {
   "cell_type": "code",
   "execution_count": 4,
   "id": "f87821a0",
   "metadata": {},
   "outputs": [
    {
     "data": {
      "text/html": [
       "<div>\n",
       "<style scoped>\n",
       "    .dataframe tbody tr th:only-of-type {\n",
       "        vertical-align: middle;\n",
       "    }\n",
       "\n",
       "    .dataframe tbody tr th {\n",
       "        vertical-align: top;\n",
       "    }\n",
       "\n",
       "    .dataframe thead th {\n",
       "        text-align: right;\n",
       "    }\n",
       "</style>\n",
       "<table border=\"1\" class=\"dataframe\">\n",
       "  <thead>\n",
       "    <tr style=\"text-align: right;\">\n",
       "      <th></th>\n",
       "      <th>Foods</th>\n",
       "      <th>Price_Per_Serving</th>\n",
       "      <th>Serving_Size</th>\n",
       "      <th>Calories</th>\n",
       "      <th>Cholesterol_mg</th>\n",
       "      <th>Total_Fat_g</th>\n",
       "      <th>Sodium_mg</th>\n",
       "      <th>Carbohydrates_g</th>\n",
       "      <th>Dietary_Fiber_g</th>\n",
       "      <th>Protein_g</th>\n",
       "      <th>Vit_D_mcg</th>\n",
       "      <th>Vit_A_mcg</th>\n",
       "      <th>Vit_C_mcg</th>\n",
       "      <th>Calcium_mg</th>\n",
       "      <th>Iron_mg</th>\n",
       "      <th>Potassium_mg</th>\n",
       "    </tr>\n",
       "  </thead>\n",
       "  <tbody>\n",
       "    <tr>\n",
       "      <th>0</th>\n",
       "      <td>Tofu</td>\n",
       "      <td>0.78</td>\n",
       "      <td>1/2 Block of Tofu</td>\n",
       "      <td>190.0</td>\n",
       "      <td>0</td>\n",
       "      <td>12.0</td>\n",
       "      <td>9.0</td>\n",
       "      <td>2.8</td>\n",
       "      <td>2.3</td>\n",
       "      <td>22.8</td>\n",
       "      <td>0.0</td>\n",
       "      <td>0</td>\n",
       "      <td>0</td>\n",
       "      <td>642.5</td>\n",
       "      <td>4.8</td>\n",
       "      <td>295.8</td>\n",
       "    </tr>\n",
       "    <tr>\n",
       "      <th>1</th>\n",
       "      <td>White Rice</td>\n",
       "      <td>0.29</td>\n",
       "      <td>1 Cup</td>\n",
       "      <td>205.0</td>\n",
       "      <td>0</td>\n",
       "      <td>0.4</td>\n",
       "      <td>0.0</td>\n",
       "      <td>45.0</td>\n",
       "      <td>0.6</td>\n",
       "      <td>4.3</td>\n",
       "      <td>0.0</td>\n",
       "      <td>0</td>\n",
       "      <td>0</td>\n",
       "      <td>16.0</td>\n",
       "      <td>1.9</td>\n",
       "      <td>55.3</td>\n",
       "    </tr>\n",
       "    <tr>\n",
       "      <th>2</th>\n",
       "      <td>Mango</td>\n",
       "      <td>0.83</td>\n",
       "      <td>1 Mango</td>\n",
       "      <td>202.0</td>\n",
       "      <td>0</td>\n",
       "      <td>1.3</td>\n",
       "      <td>3.4</td>\n",
       "      <td>50.0</td>\n",
       "      <td>5.4</td>\n",
       "      <td>2.8</td>\n",
       "      <td>0.0</td>\n",
       "      <td>0</td>\n",
       "      <td>0</td>\n",
       "      <td>37.0</td>\n",
       "      <td>0.5</td>\n",
       "      <td>564.5</td>\n",
       "    </tr>\n",
       "    <tr>\n",
       "      <th>3</th>\n",
       "      <td>Low Sodium Soy Sauce</td>\n",
       "      <td>0.22</td>\n",
       "      <td>1 Tbsp</td>\n",
       "      <td>8.1</td>\n",
       "      <td>0</td>\n",
       "      <td>0.0</td>\n",
       "      <td>511.0</td>\n",
       "      <td>0.8</td>\n",
       "      <td>0.1</td>\n",
       "      <td>1.3</td>\n",
       "      <td>0.0</td>\n",
       "      <td>0</td>\n",
       "      <td>0</td>\n",
       "      <td>4.3</td>\n",
       "      <td>0.2</td>\n",
       "      <td>50.0</td>\n",
       "    </tr>\n",
       "    <tr>\n",
       "      <th>4</th>\n",
       "      <td>Avacado</td>\n",
       "      <td>0.42</td>\n",
       "      <td>1 Avacado</td>\n",
       "      <td>322.0</td>\n",
       "      <td>0</td>\n",
       "      <td>29.0</td>\n",
       "      <td>14.0</td>\n",
       "      <td>17.0</td>\n",
       "      <td>13.0</td>\n",
       "      <td>4.0</td>\n",
       "      <td>0.0</td>\n",
       "      <td>0</td>\n",
       "      <td>0</td>\n",
       "      <td>24.0</td>\n",
       "      <td>1.1</td>\n",
       "      <td>974.9</td>\n",
       "    </tr>\n",
       "    <tr>\n",
       "      <th>5</th>\n",
       "      <td>Edamame</td>\n",
       "      <td>0.62</td>\n",
       "      <td>1/2 Cup</td>\n",
       "      <td>94.0</td>\n",
       "      <td>0</td>\n",
       "      <td>4.0</td>\n",
       "      <td>4.7</td>\n",
       "      <td>6.9</td>\n",
       "      <td>4.0</td>\n",
       "      <td>9.2</td>\n",
       "      <td>0.0</td>\n",
       "      <td>0</td>\n",
       "      <td>0</td>\n",
       "      <td>49.0</td>\n",
       "      <td>1.8</td>\n",
       "      <td>337.9</td>\n",
       "    </tr>\n",
       "    <tr>\n",
       "      <th>6</th>\n",
       "      <td>Canned Corn</td>\n",
       "      <td>0.57</td>\n",
       "      <td>1 Can</td>\n",
       "      <td>177.0</td>\n",
       "      <td>0</td>\n",
       "      <td>3.2</td>\n",
       "      <td>540.0</td>\n",
       "      <td>38.0</td>\n",
       "      <td>5.3</td>\n",
       "      <td>6.0</td>\n",
       "      <td>0.0</td>\n",
       "      <td>0</td>\n",
       "      <td>0</td>\n",
       "      <td>7.9</td>\n",
       "      <td>0.7</td>\n",
       "      <td>348.0</td>\n",
       "    </tr>\n",
       "    <tr>\n",
       "      <th>7</th>\n",
       "      <td>Hard Boiled Egg</td>\n",
       "      <td>0.80</td>\n",
       "      <td>2 Hard Boiled Eggs</td>\n",
       "      <td>156.0</td>\n",
       "      <td>374</td>\n",
       "      <td>10.6</td>\n",
       "      <td>124.0</td>\n",
       "      <td>1.1</td>\n",
       "      <td>0.0</td>\n",
       "      <td>12.6</td>\n",
       "      <td>2.2</td>\n",
       "      <td>0</td>\n",
       "      <td>0</td>\n",
       "      <td>50.0</td>\n",
       "      <td>1.2</td>\n",
       "      <td>126.0</td>\n",
       "    </tr>\n",
       "  </tbody>\n",
       "</table>\n",
       "</div>"
      ],
      "text/plain": [
       "                  Foods  Price_Per_Serving        Serving_Size  Calories  \\\n",
       "0                  Tofu               0.78   1/2 Block of Tofu     190.0   \n",
       "1            White Rice               0.29               1 Cup     205.0   \n",
       "2                 Mango               0.83             1 Mango     202.0   \n",
       "3  Low Sodium Soy Sauce               0.22              1 Tbsp       8.1   \n",
       "4               Avacado               0.42           1 Avacado     322.0   \n",
       "5               Edamame               0.62             1/2 Cup      94.0   \n",
       "6           Canned Corn               0.57               1 Can     177.0   \n",
       "7       Hard Boiled Egg               0.80  2 Hard Boiled Eggs     156.0   \n",
       "\n",
       "   Cholesterol_mg  Total_Fat_g  Sodium_mg  Carbohydrates_g  Dietary_Fiber_g  \\\n",
       "0               0         12.0        9.0              2.8              2.3   \n",
       "1               0          0.4        0.0             45.0              0.6   \n",
       "2               0          1.3        3.4             50.0              5.4   \n",
       "3               0          0.0      511.0              0.8              0.1   \n",
       "4               0         29.0       14.0             17.0             13.0   \n",
       "5               0          4.0        4.7              6.9              4.0   \n",
       "6               0          3.2      540.0             38.0              5.3   \n",
       "7             374         10.6      124.0              1.1              0.0   \n",
       "\n",
       "   Protein_g  Vit_D_mcg  Vit_A_mcg  Vit_C_mcg  Calcium_mg  Iron_mg  \\\n",
       "0       22.8        0.0          0          0       642.5      4.8   \n",
       "1        4.3        0.0          0          0        16.0      1.9   \n",
       "2        2.8        0.0          0          0        37.0      0.5   \n",
       "3        1.3        0.0          0          0         4.3      0.2   \n",
       "4        4.0        0.0          0          0        24.0      1.1   \n",
       "5        9.2        0.0          0          0        49.0      1.8   \n",
       "6        6.0        0.0          0          0         7.9      0.7   \n",
       "7       12.6        2.2          0          0        50.0      1.2   \n",
       "\n",
       "   Potassium_mg  \n",
       "0         295.8  \n",
       "1          55.3  \n",
       "2         564.5  \n",
       "3          50.0  \n",
       "4         974.9  \n",
       "5         337.9  \n",
       "6         348.0  \n",
       "7         126.0  "
      ]
     },
     "execution_count": 4,
     "metadata": {},
     "output_type": "execute_result"
    }
   ],
   "source": [
    "df"
   ]
  },
  {
   "cell_type": "markdown",
   "id": "0d8fea20",
   "metadata": {},
   "source": [
    "# Use PuLP to create the linear programming optimization"
   ]
  },
  {
   "cell_type": "code",
   "execution_count": 5,
   "id": "5348cb6b",
   "metadata": {},
   "outputs": [
    {
     "name": "stderr",
     "output_type": "stream",
     "text": [
      "/Users/albertlee/opt/anaconda3/lib/python3.9/site-packages/pulp/pulp.py:1298: UserWarning: Spaces are not permitted in the name. Converted to '_'\n",
      "  warnings.warn(\"Spaces are not permitted in the name. Converted to '_'\")\n"
     ]
    }
   ],
   "source": [
    "# Create the 'prob' variable to contain the problem data\n",
    "prob = LpProblem(\"Simple Diet Problem\",LpMinimize)"
   ]
  },
  {
   "cell_type": "code",
   "execution_count": 6,
   "id": "33b2eaba",
   "metadata": {},
   "outputs": [],
   "source": [
    "# Creates a list of the Ingredients\n",
    "food_items = list(df['Foods'])"
   ]
  },
  {
   "cell_type": "code",
   "execution_count": 7,
   "id": "81e45f29",
   "metadata": {},
   "outputs": [
    {
     "name": "stdout",
     "output_type": "stream",
     "text": [
      "So, the food items to consdier, are\n",
      "----------------------------------------------------------------------------------------------------\n",
      "Tofu, White Rice, Mango, Low Sodium Soy Sauce, Avacado, Edamame, Canned Corn, Hard Boiled Egg, "
     ]
    }
   ],
   "source": [
    "print(\"The food items to consdier, are\\n\"+\"-\"*100)\n",
    "for f in food_items:\n",
    "    print(f,end=', ')"
   ]
  },
  {
   "cell_type": "code",
   "execution_count": 8,
   "id": "39413ab4",
   "metadata": {},
   "outputs": [],
   "source": [
    "costs = dict(zip(food_items,df['Price_Per_Serving']))"
   ]
  },
  {
   "cell_type": "code",
   "execution_count": 9,
   "id": "7e47e5b3",
   "metadata": {},
   "outputs": [
    {
     "data": {
      "text/plain": [
       "{'Tofu': 0.78,\n",
       " 'White Rice': 0.29,\n",
       " 'Mango': 0.83,\n",
       " 'Low Sodium Soy Sauce': 0.22,\n",
       " 'Avacado': 0.42,\n",
       " 'Edamame': 0.62,\n",
       " 'Canned Corn': 0.57,\n",
       " 'Hard Boiled Egg': 0.8}"
      ]
     },
     "execution_count": 9,
     "metadata": {},
     "output_type": "execute_result"
    }
   ],
   "source": [
    "costs"
   ]
  },
  {
   "cell_type": "markdown",
   "id": "223fd632",
   "metadata": {},
   "source": [
    "# Create dictionary for nutritional facts for food items"
   ]
  },
  {
   "cell_type": "code",
   "execution_count": 10,
   "id": "42a0a975",
   "metadata": {},
   "outputs": [],
   "source": [
    "calories = dict(zip(food_items,df['Calories']))"
   ]
  },
  {
   "cell_type": "code",
   "execution_count": 11,
   "id": "e471bbc8",
   "metadata": {},
   "outputs": [],
   "source": [
    "cholesterol = dict(zip(food_items,df['Cholesterol_mg']))"
   ]
  },
  {
   "cell_type": "code",
   "execution_count": 12,
   "id": "e21ccfef",
   "metadata": {},
   "outputs": [],
   "source": [
    "fat = dict(zip(food_items,df['Total_Fat_g']))"
   ]
  },
  {
   "cell_type": "code",
   "execution_count": 13,
   "id": "309de79c",
   "metadata": {},
   "outputs": [],
   "source": [
    "sodium = dict(zip(food_items,df['Sodium_mg']))"
   ]
  },
  {
   "cell_type": "code",
   "execution_count": 14,
   "id": "e25a2a7f",
   "metadata": {},
   "outputs": [],
   "source": [
    "carbohydrates = dict(zip(food_items,df['Carbohydrates_g']))"
   ]
  },
  {
   "cell_type": "code",
   "execution_count": 15,
   "id": "4d7725b5",
   "metadata": {},
   "outputs": [],
   "source": [
    "fiber = dict(zip(food_items,df['Dietary_Fiber_g']))"
   ]
  },
  {
   "cell_type": "code",
   "execution_count": 16,
   "id": "a66d5ad5",
   "metadata": {},
   "outputs": [],
   "source": [
    "protein = dict(zip(food_items,df['Protein_g']))"
   ]
  },
  {
   "cell_type": "code",
   "execution_count": 17,
   "id": "68f400a9",
   "metadata": {},
   "outputs": [],
   "source": [
    "Vitamin_D = dict(zip(food_items,df['Vit_D_mcg']))"
   ]
  },
  {
   "cell_type": "code",
   "execution_count": 18,
   "id": "0d12fa70",
   "metadata": {},
   "outputs": [],
   "source": [
    "Vitamin_A = dict(zip(food_items,df['Vit_A_mcg']))"
   ]
  },
  {
   "cell_type": "code",
   "execution_count": 19,
   "id": "954c8adc",
   "metadata": {},
   "outputs": [],
   "source": [
    "Vitamin_C = dict(zip(food_items,df['Vit_C_mcg']))"
   ]
  },
  {
   "cell_type": "code",
   "execution_count": 20,
   "id": "a07c9391",
   "metadata": {},
   "outputs": [],
   "source": [
    "calcium = dict(zip(food_items,df['Calcium_mg']))"
   ]
  },
  {
   "cell_type": "code",
   "execution_count": 21,
   "id": "2d860df9",
   "metadata": {},
   "outputs": [],
   "source": [
    "iron = dict(zip(food_items,df['Iron_mg']))"
   ]
  },
  {
   "cell_type": "code",
   "execution_count": 22,
   "id": "f57cd0c0",
   "metadata": {},
   "outputs": [],
   "source": [
    "potassium = dict(zip(food_items,df['Potassium_mg']))"
   ]
  },
  {
   "cell_type": "code",
   "execution_count": 23,
   "id": "5a355b24",
   "metadata": {},
   "outputs": [],
   "source": [
    "# A dictionary called 'food_vars' is created to contain the referenced Variables\n",
    "food_vars = LpVariable.dicts(\"Food\",food_items,0,cat='Continuous')"
   ]
  },
  {
   "cell_type": "code",
   "execution_count": 24,
   "id": "fbb259eb",
   "metadata": {
    "scrolled": true
   },
   "outputs": [
    {
     "data": {
      "text/plain": [
       "{'Tofu': Food_Tofu,\n",
       " 'White Rice': Food_White_Rice,\n",
       " 'Mango': Food_Mango,\n",
       " 'Low Sodium Soy Sauce': Food_Low_Sodium_Soy_Sauce,\n",
       " 'Avacado': Food_Avacado,\n",
       " 'Edamame': Food_Edamame,\n",
       " 'Canned Corn': Food_Canned_Corn,\n",
       " 'Hard Boiled Egg': Food_Hard_Boiled_Egg}"
      ]
     },
     "execution_count": 24,
     "metadata": {},
     "output_type": "execute_result"
    }
   ],
   "source": [
    "food_vars"
   ]
  },
  {
   "cell_type": "code",
   "execution_count": 25,
   "id": "8acd6f99",
   "metadata": {},
   "outputs": [],
   "source": [
    "prob += lpSum([costs[i]*food_vars[i] for i in food_items]), \"Total Cost of the balanced diet\""
   ]
  },
  {
   "cell_type": "markdown",
   "id": "97d43837",
   "metadata": {},
   "source": [
    "# Adding Assignment Constraints"
   ]
  },
  {
   "cell_type": "code",
   "execution_count": 26,
   "id": "0314a432",
   "metadata": {},
   "outputs": [],
   "source": [
    "# Calories\n",
    "prob += lpSum([calories[f] * food_vars[f] for f in food_items]) >= 2000.0, \"CalorieMinimum\"\n",
    "prob += lpSum([calories[f] * food_vars[f] for f in food_items]) <= 3000.0, \"CalorieMaximum\"\n",
    "\n",
    "# Sodium\n",
    "prob += lpSum([sodium[f] * food_vars[f] for f in food_items]) >= 500.0, \"SodiumMinimum\"\n",
    "prob += lpSum([sodium[f] * food_vars[f] for f in food_items]) <= 5000.0, \"SodiumMaximum\"\n",
    "\n",
    "# Protein\n",
    "prob += lpSum([protein[f] * food_vars[f] for f in food_items]) >= 50.0, \"ProteinMinimum\"\n",
    "prob += lpSum([protein[f] * food_vars[f] for f in food_items]) <= 175.0, \"ProteinMaximum\"\n",
    "\n",
    "# Vitamin D\n",
    "prob += lpSum([Vitamin_D[f] * food_vars[f] for f in food_items]) >= 20.0, \"VitDMinimum\"\n",
    "prob += lpSum([Vitamin_D[f] * food_vars[f] for f in food_items]) <= 105.0, \"VitDMaximum\"\n",
    "\n",
    "# Calcium\n",
    "prob += lpSum([calcium[f] * food_vars[f] for f in food_items]) >= 1300.0, \"CalciumMinimum\"\n",
    "prob += lpSum([calcium[f] * food_vars[f] for f in food_items]) <= 2500.0, \"CalciumMaximum\"\n",
    "\n",
    "# Iron\n",
    "prob += lpSum([iron[f] * food_vars[f] for f in food_items]) >= 18.0, \"IronMinimum\"\n",
    "prob += lpSum([iron[f] * food_vars[f] for f in food_items]) <= 45.0, \"IronMaximum\"\n",
    "\n",
    "# Potassium\n",
    "prob += lpSum([potassium[f] * food_vars[f] for f in food_items]) >= 4700.0, \"PotassiumnMinimum\"\n",
    "prob += lpSum([potassium[f] * food_vars[f] for f in food_items]) <= 5000.0, \"PotassiumMaximum\""
   ]
  },
  {
   "cell_type": "code",
   "execution_count": 27,
   "id": "5e99866e",
   "metadata": {
    "scrolled": true
   },
   "outputs": [
    {
     "data": {
      "text/plain": [
       "[Food_Avacado,\n",
       " Food_Canned_Corn,\n",
       " Food_Edamame,\n",
       " Food_Hard_Boiled_Egg,\n",
       " Food_Low_Sodium_Soy_Sauce,\n",
       " Food_Mango,\n",
       " Food_Tofu,\n",
       " Food_White_Rice]"
      ]
     },
     "execution_count": 27,
     "metadata": {},
     "output_type": "execute_result"
    }
   ],
   "source": [
    "# The problem data is written to an .lp file\n",
    "prob.writeLP(\"SimpleDietProblem.lp\")"
   ]
  },
  {
   "cell_type": "code",
   "execution_count": 28,
   "id": "6b0d3530",
   "metadata": {
    "scrolled": true
   },
   "outputs": [
    {
     "name": "stdout",
     "output_type": "stream",
     "text": [
      "Welcome to the CBC MILP Solver \n",
      "Version: 2.10.3 \n",
      "Build Date: Dec 15 2019 \n",
      "\n",
      "command line - /Users/albertlee/opt/anaconda3/lib/python3.9/site-packages/pulp/solverdir/cbc/osx/64/cbc /var/folders/cz/l5s8bjb52v555tv67llq0j1c0000gn/T/cd46f2fbdb3e44d2a3330ce5aae17c8c-pulp.mps -timeMode elapsed -branch -printingOptions all -solution /var/folders/cz/l5s8bjb52v555tv67llq0j1c0000gn/T/cd46f2fbdb3e44d2a3330ce5aae17c8c-pulp.sol (default strategy 1)\n",
      "At line 2 NAME          MODEL\n",
      "At line 3 ROWS\n",
      "At line 19 COLUMNS\n",
      "At line 124 RHS\n",
      "At line 139 BOUNDS\n",
      "At line 140 ENDATA\n",
      "Problem MODEL has 14 rows, 8 columns and 96 elements\n",
      "Coin0008I MODEL read with 0 errors\n",
      "Option for timeMode changed from cpu to elapsed\n",
      "Presolve 10 (-4) rows, 8 (0) columns and 79 (-17) elements\n",
      "0  Obj 7.2727273 Primal inf 8.2461017 (4)\n",
      "2  Obj 9.5827213\n",
      "Optimal - objective value 9.5827213\n",
      "After Postsolve, objective 9.5827213, infeasibilities - dual 0 (0), primal 0 (0)\n",
      "Optimal objective 9.582721282 - 2 iterations time 0.002, Presolve 0.00\n",
      "Option for printingOptions changed from normal to all\n",
      "Total time (CPU seconds):       0.00   (Wallclock seconds):       0.00\n",
      "\n"
     ]
    },
    {
     "data": {
      "text/plain": [
       "1"
      ]
     },
     "execution_count": 28,
     "metadata": {},
     "output_type": "execute_result"
    }
   ],
   "source": [
    "# The problem is solved using PuLP's choice of Solver\n",
    "prob.solve()"
   ]
  },
  {
   "cell_type": "markdown",
   "id": "51b3911c",
   "metadata": {},
   "source": [
    "# Checking whether the solution is \"Optimal\", \"Infeasible\", or \"Unbound\""
   ]
  },
  {
   "cell_type": "code",
   "execution_count": 29,
   "id": "cdb488c4",
   "metadata": {},
   "outputs": [
    {
     "name": "stdout",
     "output_type": "stream",
     "text": [
      "Status: Optimal\n"
     ]
    }
   ],
   "source": [
    "# The status of the solution is printed to the screen\n",
    "print(\"Status:\", LpStatus[prob.status])"
   ]
  },
  {
   "cell_type": "markdown",
   "id": "9745872c",
   "metadata": {},
   "source": [
    "# What foods are for a balanced diet (least cost)"
   ]
  },
  {
   "cell_type": "code",
   "execution_count": 30,
   "id": "69e5da0b",
   "metadata": {},
   "outputs": [
    {
     "name": "stdout",
     "output_type": "stream",
     "text": [
      "Therefore, the optimal (least cost) balanced diet consists of\n",
      "--------------------------------------------------------------------------------------------------------------\n",
      "Food_Avacado = 3.2840226\n",
      "Food_Hard_Boiled_Egg = 9.0909091\n",
      "Food_Tofu = 1.1932109\n"
     ]
    }
   ],
   "source": [
    "print(\"Therefore, the optimal (least cost) balanced diet consists of\\n\"+\"-\"*110)\n",
    "for v in prob.variables():\n",
    "    if v.varValue>0:\n",
    "        print(v.name, \"=\", v.varValue)"
   ]
  },
  {
   "cell_type": "code",
   "execution_count": 31,
   "id": "a84ea864",
   "metadata": {},
   "outputs": [
    {
     "name": "stdout",
     "output_type": "stream",
     "text": [
      "The total cost of this balanced diet daily is: $9.58\n"
     ]
    }
   ],
   "source": [
    "print(\"The total cost of this balanced diet daily is: ${}\".format(round(value(prob.objective),2)))"
   ]
  },
  {
   "cell_type": "code",
   "execution_count": 32,
   "id": "fce8f1e6",
   "metadata": {},
   "outputs": [
    {
     "name": "stdout",
     "output_type": "stream",
     "text": [
      "The total cost of this balanced diet for a 7-day week is: $67.06\n"
     ]
    }
   ],
   "source": [
    "print(\"The total cost of this balanced diet for a 7-day week is: ${}\".format(round(value(prob.objective),2)*7))"
   ]
  },
  {
   "cell_type": "code",
   "execution_count": null,
   "id": "5abc2714",
   "metadata": {},
   "outputs": [],
   "source": []
  }
 ],
 "metadata": {
  "kernelspec": {
   "display_name": "Python 3 (ipykernel)",
   "language": "python",
   "name": "python3"
  },
  "language_info": {
   "codemirror_mode": {
    "name": "ipython",
    "version": 3
   },
   "file_extension": ".py",
   "mimetype": "text/x-python",
   "name": "python",
   "nbconvert_exporter": "python",
   "pygments_lexer": "ipython3",
   "version": "3.9.13"
  }
 },
 "nbformat": 4,
 "nbformat_minor": 5
}
