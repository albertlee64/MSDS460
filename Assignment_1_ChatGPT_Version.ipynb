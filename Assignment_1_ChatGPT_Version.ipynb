{
 "cells": [
  {
   "cell_type": "markdown",
   "id": "9980df9a",
   "metadata": {},
   "source": [
    "# Part 5 ChatGPT Version"
   ]
  },
  {
   "cell_type": "code",
   "execution_count": 1,
   "id": "e102914a",
   "metadata": {},
   "outputs": [],
   "source": [
    "import pandas as pd\n",
    "from pulp import LpProblem, LpVariable, lpSum, LpMinimize, value"
   ]
  },
  {
   "cell_type": "code",
   "execution_count": 2,
   "id": "5247ab1d",
   "metadata": {},
   "outputs": [],
   "source": [
    "# Load the data from the Excel file\n",
    "file_path = \"Assignment_1_Diet.xlsx\"  # Replace with your local path\n",
    "sheet_data = pd.read_excel(file_path, sheet_name=\"Sheet1\")"
   ]
  },
  {
   "cell_type": "code",
   "execution_count": 3,
   "id": "8fcb83af",
   "metadata": {},
   "outputs": [],
   "source": [
    "# Extract relevant columns\n",
    "foods = sheet_data['Foods']\n",
    "prices = sheet_data['Price_Per_Serving']\n",
    "calories = sheet_data['Calories']\n",
    "protein = sheet_data['Protein_g']\n",
    "fat = sheet_data['Total_Fat_g']\n",
    "fiber = sheet_data['Dietary_Fiber_g']\n",
    "sodium = sheet_data['Sodium_mg']\n",
    "vitamin_d = sheet_data['Vit_D_mcg']\n",
    "calcium = sheet_data['Calcium_mg']\n",
    "iron = sheet_data['Iron_mg']\n",
    "potassium = sheet_data['Potassium_mg']"
   ]
  },
  {
   "cell_type": "code",
   "execution_count": 4,
   "id": "598f6609",
   "metadata": {},
   "outputs": [],
   "source": [
    "# Step 1: Define the LP problem\n",
    "diet_problem = LpProblem(\"Optimal_Diet\", LpMinimize)"
   ]
  },
  {
   "cell_type": "code",
   "execution_count": 5,
   "id": "12714ff5",
   "metadata": {},
   "outputs": [],
   "source": [
    "# Step 2: Define decision variables (number of servings for each food)\n",
    "servings = {food: LpVariable(name=f\"servings_{food}\", lowBound=0) for food in foods}"
   ]
  },
  {
   "cell_type": "code",
   "execution_count": 6,
   "id": "9a07429b",
   "metadata": {},
   "outputs": [],
   "source": [
    "# Step 3: Define the objective function (minimize cost)\n",
    "diet_problem += lpSum(servings[food] * prices[i] for i, food in enumerate(foods)), \"Total_Cost\""
   ]
  },
  {
   "cell_type": "code",
   "execution_count": 7,
   "id": "aa00353d",
   "metadata": {},
   "outputs": [],
   "source": [
    "# Step 4: Add nutritional constraints\n",
    "diet_problem += lpSum(servings[food] * calories[i] for i, food in enumerate(foods)) >= 2000, \"Min_Calories\"\n",
    "diet_problem += lpSum(servings[food] * protein[i] for i, food in enumerate(foods)) >= 50, \"Min_Protein\"\n",
    "diet_problem += lpSum(servings[food] * fat[i] for i, food in enumerate(foods)) <= 70, \"Max_Fat\"\n",
    "diet_problem += lpSum(servings[food] * fiber[i] for i, food in enumerate(foods)) >= 25, \"Min_Fiber\"\n",
    "diet_problem += lpSum(servings[food] * sodium[i] for i, food in enumerate(foods)) <= 5000, \"Max_Sodium\"\n",
    "diet_problem += lpSum(servings[food] * vitamin_d[i] for i, food in enumerate(foods)) >= 20, \"Min_Vitamin_D\"\n",
    "diet_problem += lpSum(servings[food] * calcium[i] for i, food in enumerate(foods)) >= 1300, \"Min_Calcium\"\n",
    "diet_problem += lpSum(servings[food] * iron[i] for i, food in enumerate(foods)) >= 18, \"Min_Iron\"\n",
    "diet_problem += lpSum(servings[food] * potassium[i] for i, food in enumerate(foods)) >= 4700, \"Min_Potassium\""
   ]
  },
  {
   "cell_type": "code",
   "execution_count": 8,
   "id": "8eb26197",
   "metadata": {},
   "outputs": [
    {
     "name": "stdout",
     "output_type": "stream",
     "text": [
      "Welcome to the CBC MILP Solver \n",
      "Version: 2.10.3 \n",
      "Build Date: Dec 15 2019 \n",
      "\n",
      "command line - /Users/albertlee/opt/anaconda3/lib/python3.9/site-packages/pulp/solverdir/cbc/osx/64/cbc /var/folders/cz/l5s8bjb52v555tv67llq0j1c0000gn/T/8ba5be3d8bb74be4b7e1bd6b9eaa9f9f-pulp.mps -timeMode elapsed -branch -printingOptions all -solution /var/folders/cz/l5s8bjb52v555tv67llq0j1c0000gn/T/8ba5be3d8bb74be4b7e1bd6b9eaa9f9f-pulp.sol (default strategy 1)\n",
      "At line 2 NAME          MODEL\n",
      "At line 3 ROWS\n",
      "At line 14 COLUMNS\n",
      "At line 85 RHS\n",
      "At line 95 BOUNDS\n",
      "At line 96 ENDATA\n",
      "Problem MODEL has 9 rows, 8 columns and 62 elements\n",
      "Coin0008I MODEL read with 0 errors\n",
      "Option for timeMode changed from cpu to elapsed\n",
      "Presolve determined that the problem was infeasible with tolerance of 1e-08\n",
      "Analysis indicates model infeasible or unbounded\n",
      "0  Obj 0 Primal inf 30.012501 (7)\n",
      "4  Obj 56.451329 Primal inf 293.20136 (5)\n",
      "Primal infeasible - objective value 56.451329\n",
      "PrimalInfeasible objective 56.45132867 - 4 iterations time 0.002\n",
      "\n",
      "Result - Linear relaxation infeasible\n",
      "\n",
      "Enumerated nodes:           0\n",
      "Total iterations:           0\n",
      "Time (CPU seconds):         0.00\n",
      "Time (Wallclock Seconds):   0.01\n",
      "\n",
      "Option for printingOptions changed from normal to all\n",
      "Total time (CPU seconds):       0.00   (Wallclock seconds):       0.01\n",
      "\n"
     ]
    },
    {
     "data": {
      "text/plain": [
       "-1"
      ]
     },
     "execution_count": 8,
     "metadata": {},
     "output_type": "execute_result"
    }
   ],
   "source": [
    "# Step 5: Solve the problem\n",
    "diet_problem.solve()"
   ]
  },
  {
   "cell_type": "code",
   "execution_count": 9,
   "id": "ab50b7fd",
   "metadata": {},
   "outputs": [],
   "source": [
    "# Step 6: Display the results\n",
    "results = {\n",
    "    \"Food\": [],\n",
    "    \"Optimal Servings\": [],\n",
    "    \"Cost\": []\n",
    "}\n",
    "\n",
    "for i, food in enumerate(foods):\n",
    "    results[\"Food\"].append(food)\n",
    "    results[\"Optimal Servings\"].append(servings[food].varValue)\n",
    "    results[\"Cost\"].append(servings[food].varValue * prices[i])"
   ]
  },
  {
   "cell_type": "code",
   "execution_count": 10,
   "id": "96946e50",
   "metadata": {},
   "outputs": [],
   "source": [
    "# Convert results to a DataFrame for better visualization\n",
    "results_df = pd.DataFrame(results)\n",
    "results_df[\"Cost\"] = results_df[\"Cost\"].fillna(0).round(2)  # Clean up cost column\n"
   ]
  },
  {
   "cell_type": "code",
   "execution_count": 11,
   "id": "1891a22a",
   "metadata": {},
   "outputs": [
    {
     "name": "stdout",
     "output_type": "stream",
     "text": [
      "Optimal Diet Plan:\n",
      "                   Food  Optimal Servings   Cost\n",
      "0                  Tofu          0.000000   0.00\n",
      "1            White Rice          0.000000   0.00\n",
      "2                 Mango        -20.279720 -16.83\n",
      "3  Low Sodium Soy Sauce        300.048950  66.01\n",
      "4               Avacado          0.000000   0.00\n",
      "5               Edamame          0.000000   0.00\n",
      "6           Canned Corn          0.000000   0.00\n",
      "7       Hard Boiled Egg          9.090909   7.27\n",
      "\n",
      "Total Cost: $ 56.45\n"
     ]
    }
   ],
   "source": [
    "# Print the results\n",
    "print(\"Optimal Diet Plan:\")\n",
    "print(results_df)\n",
    "print(\"\\nTotal Cost: $\", round(value(diet_problem.objective), 2))"
   ]
  },
  {
   "cell_type": "code",
   "execution_count": null,
   "id": "594d7f12",
   "metadata": {},
   "outputs": [],
   "source": []
  }
 ],
 "metadata": {
  "kernelspec": {
   "display_name": "Python 3 (ipykernel)",
   "language": "python",
   "name": "python3"
  },
  "language_info": {
   "codemirror_mode": {
    "name": "ipython",
    "version": 3
   },
   "file_extension": ".py",
   "mimetype": "text/x-python",
   "name": "python",
   "nbconvert_exporter": "python",
   "pygments_lexer": "ipython3",
   "version": "3.9.13"
  }
 },
 "nbformat": 4,
 "nbformat_minor": 5
}
